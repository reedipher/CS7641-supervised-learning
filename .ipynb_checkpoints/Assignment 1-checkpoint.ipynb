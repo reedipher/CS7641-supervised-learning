{
 "cells": [
  {
   "cell_type": "markdown",
   "metadata": {},
   "source": [
    "# Common Imports"
   ]
  },
  {
   "cell_type": "code",
   "execution_count": 1,
   "metadata": {},
   "outputs": [],
   "source": [
    "from sklearn.model_selection import cross_val_score, train_test_split\n",
    "from sklearn.model_selection import GridSearchCV\n",
    "from sklearn.metrics import confusion_matrix, classification_report\n",
    "from sklearn.preprocessing import StandardScaler, LabelEncoder\n",
    "from sklearn.model_selection import train_test_split\n",
    "import matplotlib.pyplot as plt\n",
    "import seaborn as sns\n",
    "import pandas as pd\n",
    "import numpy as np\n",
    "import time\n",
    "%matplotlib inline"
   ]
  },
  {
   "cell_type": "code",
   "execution_count": 2,
   "metadata": {},
   "outputs": [
    {
     "name": "stdout",
     "output_type": "stream",
     "text": [
      "0.22.1\n"
     ]
    }
   ],
   "source": [
    "# Make sure we are using version 0.22.1 of scikit learn\n",
    "import sklearn\n",
    "print(sklearn.__version__)\n",
    "\n",
    "if sklearn.__version__ != \"0.22.1\":\n",
    "    print(\"Wrong version!! Update using 'pip install -U scikit-learn'\")\n",
    "    "
   ]
  },
  {
   "cell_type": "code",
   "execution_count": 3,
   "metadata": {},
   "outputs": [
    {
     "name": "stdout",
     "output_type": "stream",
     "text": [
      "Object `class` not found.\n"
     ]
    }
   ],
   "source": [
    "## Null Accuracy\n",
    "What is the probability that you would get if you just report back the most prevalent class?\n",
    "def calculate_null_accuracy(y):\n",
    "    vals, counts = np.unique(y, return_counts=True)\n",
    "    norm = counts / np.sum(counts)\n",
    "    return max(norm)"
   ]
  },
  {
   "cell_type": "markdown",
   "metadata": {},
   "source": [
    "# Datasets"
   ]
  },
  {
   "cell_type": "code",
   "execution_count": 4,
   "metadata": {},
   "outputs": [],
   "source": [
    "from sklearn import datasets"
   ]
  },
  {
   "cell_type": "markdown",
   "metadata": {},
   "source": [
    "## Wine Quality"
   ]
  },
  {
   "cell_type": "code",
   "execution_count": 5,
   "metadata": {},
   "outputs": [
    {
     "name": "stdout",
     "output_type": "stream",
     "text": [
      "Null Accuracy: 53.47 %\n"
     ]
    },
    {
     "data": {
      "text/plain": [
       "<matplotlib.axes._subplots.AxesSubplot at 0x21101861688>"
      ]
     },
     "execution_count": 5,
     "metadata": {},
     "output_type": "execute_result"
    },
    {
     "data": {
      "image/png": "[encoded data removed]",
      "text/plain": [
       "<Figure size 432x288 with 1 Axes>"
      ]
     },
     "metadata": {
      "needs_background": "light"
     },
     "output_type": "display_data"
    }
   ],
   "source": [
    "wine = pd.read_csv('datasets/wine-quality/winequality-red.csv', sep=';')\n",
    "# Preprocess the data\n",
    "bins = (2, 5.5, 8)\n",
    "group_names = ['bad', 'good']\n",
    "wine['quality'] = pd.cut(wine['quality'], bins=bins, labels=group_names)\n",
    "wine['quality'].unique()\n",
    "\n",
    "label_quality = LabelEncoder()\n",
    "wine['quality'] = label_quality.fit_transform(wine['quality'])\n",
    "\n",
    "# separate the dataset as response variable and feature variables\n",
    "wineX = wine.drop('quality', axis=1)\n",
    "winey = wine['quality']\n",
    "wine_labels = ['bad wine', 'good wine']\n",
    "\n",
    "# look at distribution\n",
    "wine_null = calculate_null_accuracy(winey)\n",
    "print(\"Null Accuracy: %.2f %%\" % (wine_null*100))\n",
    "\n",
    "sns.countplot(wine['quality'])"
   ]
  },
  {
   "cell_type": "markdown",
   "metadata": {},
   "source": [
    "## Digits"
   ]
  },
  {
   "cell_type": "code",
   "execution_count": 6,
   "metadata": {},
   "outputs": [
    {
     "name": "stdout",
     "output_type": "stream",
     "text": [
      "Null Accuracy: 10.18 %\n"
     ]
    },
    {
     "data": {
      "text/plain": [
       "<matplotlib.axes._subplots.AxesSubplot at 0x21103d95e88>"
      ]
     },
     "execution_count": 6,
     "metadata": {},
     "output_type": "execute_result"
    },
    {
     "data": {
      "image/png": "[encoded data removed]",
      "text/plain": [
       "<Figure size 432x288 with 1 Axes>"
      ]
     },
     "metadata": {
      "needs_background": "light"
     },
     "output_type": "display_data"
    }
   ],
   "source": [
    "from sklearn.datasets import load_digits\n",
    "digits = load_digits()\n",
    "\n",
    "digitsX = digits.data\n",
    "digitsy = digits.target\n",
    "digits_labels = ['0', '1', '2', '3', '4', '5', '6', '7', '8', '9']\n",
    "\n",
    "\n",
    "# look at distribution\n",
    "digits_null = calculate_null_accuracy(digitsy)\n",
    "print(\"Null Accuracy: %.2f %%\" % (digits_null*100))\n",
    "\n",
    "sns.countplot(digitsy)\n"
   ]
  },
  {
   "cell_type": "markdown",
   "metadata": {},
   "source": [
    "## Chosen Dataset"
   ]
  },
  {
   "cell_type": "code",
   "execution_count": 7,
   "metadata": {},
   "outputs": [],
   "source": [
    "# Choose dataset to use going forward\n",
    "X = digitsX\n",
    "y = digitsy\n",
    "labels = digits_labels\n",
    "\n",
    "test_size=0.3\n",
    "\n",
    "# Split into train and test sets\n",
    "X_train, X_test, y_train, y_test = train_test_split(X, y, test_size=test_size, random_state=0)"
   ]
  },
  {
   "cell_type": "markdown",
   "metadata": {},
   "source": [
    "# Helper Function Definitions"
   ]
  },
  {
   "cell_type": "markdown",
   "metadata": {},
   "source": [
    "## Model Complexity"
   ]
  },
  {
   "cell_type": "code",
   "execution_count": 8,
   "metadata": {},
   "outputs": [],
   "source": [
    "def plot_model_complexity(clf, X, y):\n",
    "    return 0\n"
   ]
  },
  {
   "cell_type": "markdown",
   "metadata": {},
   "source": [
    "## Validation Curve\n",
    "Helps the visualize the performance metrix over a range of values for some hyperparameter for a given algorithm\n"
   ]
  },
  {
   "cell_type": "code",
   "execution_count": 9,
   "metadata": {},
   "outputs": [],
   "source": [
    "# https://chrisalbon.com/machine_learning/model_evaluation/plot_the_validation_curve/\n",
    "from sklearn.model_selection import validation_curve\n",
    "\n",
    "def plot_validation_curve(clf, X, y, param_name, param_range, title='Validation Curve'):\n",
    "    # Calculate accuracy on training and test set using range of parameter values\n",
    "    train_scores, test_scores = validation_curve(clf, \n",
    "                                                 X, \n",
    "                                                 y, \n",
    "                                                 param_name=param_name, \n",
    "                                                 param_range=param_range,\n",
    "                                                 cv=10, \n",
    "                                                 scoring=\"accuracy\", \n",
    "                                                 n_jobs=-1)\n",
    "\n",
    "\n",
    "    # Calculate mean and standard deviation for training set scores\n",
    "    train_mean = np.mean(train_scores, axis=1)\n",
    "    train_std = np.std(train_scores, axis=1)\n",
    "\n",
    "    # Calculate mean and standard deviation for test set scores\n",
    "    test_mean = np.mean(test_scores, axis=1)\n",
    "    test_std = np.std(test_scores, axis=1)\n",
    "\n",
    "    # Plot mean accuracy scores for training and test sets\n",
    "    plt.plot(param_range, train_mean, label=\"Training score\")\n",
    "    plt.plot(param_range, test_mean, label=\"Cross-validation score\")\n",
    "\n",
    "    # Plot accurancy bands for training and test sets\n",
    "    plt.fill_between(param_range, train_mean - train_std, train_mean + train_std, alpha=0.2)\n",
    "    plt.fill_between(param_range, test_mean - test_std, test_mean + test_std, alpha=0.2)\n",
    "\n",
    "    # Create plot\n",
    "    plt.title(title)\n",
    "    plt.xlabel(param_name)\n",
    "    plt.ylabel(\"Accuracy Score\")\n",
    "    plt.tight_layout()\n",
    "    plt.legend(loc=\"best\")\n",
    "    plt.grid()\n",
    "    plt.show()\n",
    "    \n",
    "    # print out optimal value\n",
    "    best_idx = np.where(test_mean == test_mean.max())\n",
    "    best_param = param_range[best_idx]\n",
    "    \n",
    "\n",
    "    print('Best parameter values: ')\n",
    "    print(best_param)\n",
    "    "
   ]
  },
  {
   "cell_type": "markdown",
   "metadata": {},
   "source": [
    "## Learning Curve\n",
    "Helps to visualize the effect of the number of observations on the performance metric"
   ]
  },
  {
   "cell_type": "code",
   "execution_count": 10,
   "metadata": {},
   "outputs": [],
   "source": [
    "# https://chrisalbon.com/machine_learning/model_evaluation/plot_the_learning_curve/\n",
    "from sklearn.model_selection import learning_curve\n",
    "\n",
    "def plot_learning_curve(clf, X, y, title='Learning Curve'):\n",
    "    train_sizes, train_scores, test_scores, fit_times, score_times = learning_curve(\n",
    "                                                        clf, \n",
    "                                                        X, \n",
    "                                                        y,\n",
    "                                                        # Number of folds in cross-validation\n",
    "                                                        cv=10,\n",
    "                                                        # Evaluation metric\n",
    "                                                        scoring='accuracy',\n",
    "                                                        # Use all computer cores\n",
    "                                                        n_jobs=-1, \n",
    "                                                        # 50 different sizes of the training set\n",
    "                                                        train_sizes=np.linspace(0.01, 1.0, 20),\n",
    "                                                        return_times = True,\n",
    "                                                        random_state = 0)\n",
    "\n",
    "    # ------------------------------------------------------------------------------------------\n",
    "    # Plot Learning Curve\n",
    "    # ------------------------------------------------------------------------------------------\n",
    "    # Create means and standard deviations of training set scores\n",
    "    train_mean = np.mean(train_scores, axis=1)\n",
    "    train_std = np.std(train_scores, axis=1)\n",
    "\n",
    "    # Create means and standard deviations of test set scores\n",
    "    test_mean = np.mean(test_scores, axis=1)\n",
    "    test_std = np.std(test_scores, axis=1)\n",
    "\n",
    "    # Draw lines\n",
    "    plt.figure(1)\n",
    "    plt.plot(train_sizes, train_mean, '--', label=\"Training score\")\n",
    "    plt.plot(train_sizes, test_mean, 'o-', label=\"Cross-validation score\")\n",
    "    # Draw bands\n",
    "    plt.fill_between(train_sizes, train_mean - train_std, train_mean + train_std, alpha=0.2)\n",
    "    plt.fill_between(train_sizes, test_mean - test_std, test_mean + test_std, alpha=0.2)\n",
    "\n",
    "    # Create learning curve plot\n",
    "    plt.title(title)\n",
    "    plt.xlabel(\"Training Set Size\"), plt.ylabel(\"Accuracy Score\"), plt.legend(loc=\"best\")\n",
    "    plt.tight_layout()\n",
    "    plt.grid()\n",
    "    plt.show()\n",
    "    \n",
    "    # ------------------------------------------------------------------------------------------\n",
    "    # Plot Scalability Curve\n",
    "    # ------------------------------------------------------------------------------------------\n",
    "    # Create mean and std of training times\n",
    "    train_times_mean = np.mean(fit_times, axis=1)\n",
    "    train_times_std  = np.std(fit_times, axis=1)\n",
    "    \n",
    "    # plot lines\n",
    "    plt.figure(2)\n",
    "    plt.plot(train_sizes, train_times_mean, 'o-')\n",
    "    plt.fill_between(train_sizes, train_times_mean - train_times_std, train_times_mean + train_times_std, color='#DDDDDD')\n",
    "    plt.title('Training Scalability')\n",
    "    plt.xlabel('Training Set Size')\n",
    "    plt.ylabel('Fit Times (s)')\n",
    "    plt.grid()\n",
    "    plt.show()\n",
    "    \n",
    "    "
   ]
  },
  {
   "cell_type": "markdown",
   "metadata": {},
   "source": [
    "## ROC Curve\n",
    "Shows the true positive and false positive rate for every probability threshold of a binary classifier. The closer to the top left of the chart that the curves comes, the better."
   ]
  },
  {
   "cell_type": "code",
   "execution_count": 11,
   "metadata": {},
   "outputs": [],
   "source": [
    "# https://chrisalbon.com/machine_learning/model_evaluation/plot_the_receiving_operating_characteristic_curve/\n",
    "from sklearn.metrics import roc_curve, roc_auc_score\n",
    "\n",
    "def plot_roc_curve(clf, X_test, y_test, title='ROC Curve'):\n",
    "    if len(np.unique(y_test)) != 2:\n",
    "        print(\"Cannot plot ROC curve for anything other than binary classification\")\n",
    "        return 0\n",
    "    \n",
    "    # Get predicted probabilities\n",
    "    y_score = clf.predict_proba(X_test)[:,1]\n",
    "    \n",
    "    # Create true and false positive rates\n",
    "    false_positive_rate, true_positive_rate, threshold = roc_curve(y_test, y_score)\n",
    "\n",
    "    # Plot ROC curve\n",
    "    plt.title(title)\n",
    "    plt.plot(false_positive_rate, true_positive_rate)\n",
    "    plt.plot([0, 1], ls=\"--\")\n",
    "    plt.plot([0, 0], [1, 0] , c=\".7\"), plt.plot([1, 1] , c=\".7\")\n",
    "    plt.ylabel('True Positive Rate')\n",
    "    plt.xlabel('False Positive Rate')\n",
    "    plt.grid()\n",
    "    plt.show()\n",
    "    "
   ]
  },
  {
   "cell_type": "markdown",
   "metadata": {},
   "source": [
    "## Null Accuracy\n",
    "What is the probability that you would get if you just report back the most prevalent class?"
   ]
  },
  {
   "cell_type": "code",
   "execution_count": 12,
   "metadata": {},
   "outputs": [],
   "source": [
    "from sklearn.preprocessing import normalize\n",
    "\n",
    "def calculate_null_accuracy(y):\n",
    "    vals, counts = np.unique(y, return_counts=True)\n",
    "    \n",
    "    norm = counts / np.sum(counts)\n",
    "    \n",
    "    return max(norm)\n"
   ]
  },
  {
   "cell_type": "markdown",
   "metadata": {},
   "source": [
    "## Confusion Matrix"
   ]
  },
  {
   "cell_type": "code",
   "execution_count": 13,
   "metadata": {},
   "outputs": [],
   "source": [
    "# https://scikit-learn.org/stable/auto_examples/model_selection/plot_confusion_matrix.html\n",
    "\n",
    "from sklearn.metrics import plot_confusion_matrix\n",
    "import numpy as np\n",
    "\n",
    "def plot_confusion(clf, X_test, y_test, labels):\n",
    "    \n",
    "    np.set_printoptions(precision=2)\n",
    "\n",
    "    # Plot non-normalized confusion matrix\n",
    "    titles_options = [(\"Confusion matrix, without normalization\", None),\n",
    "                      (\"Normalized confusion matrix\", 'true')]\n",
    "    \n",
    "    for title, normalize in titles_options:\n",
    "        disp = plot_confusion_matrix(clf, X_test, y_test,\n",
    "                                     display_labels=labels,\n",
    "                                     cmap=plt.cm.Blues,\n",
    "                                     normalize=normalize)\n",
    "        disp.ax_.set_title(title)\n",
    "\n",
    "        #print(title)\n",
    "        #print(disp.confusion_matrix)\n",
    "        plt.show()\n",
    "\n",
    "    plt.show()\n",
    "    \n",
    "    return 0"
   ]
  },
  {
   "cell_type": "markdown",
   "metadata": {},
   "source": [
    "## Example Usage"
   ]
  },
  {
   "cell_type": "code",
   "execution_count": 15,
   "metadata": {},
   "outputs": [
    {
     "data": {
      "image/png": "[encoded data removed]",
      "text/plain": [
       "<Figure size 432x288 with 1 Axes>"
      ]
     },
     "metadata": {
      "needs_background": "light"
     },
     "output_type": "display_data"
    },
    {
     "name": "stdout",
     "output_type": "stream",
     "text": [
      "Best parameter values: \n",
      "[25]\n"
     ]
    }
   ],
   "source": [
    "from sklearn.neighbors import KNeighborsClassifier\n",
    "\n",
    "# Plot validatin curve of k in KNN for the breast cancer data\n",
    "clf = KNeighborsClassifier()\n",
    "param_name = \"n_neighbors\"\n",
    "param_range = np.arange(1,100,1)\n",
    "plot_validation_curve(clf, wineX, winey, param_name, param_range, 'KNN Validation Curve')"
   ]
  },
  {
   "cell_type": "code",
   "execution_count": 16,
   "metadata": {},
   "outputs": [
    {
     "data": {
      "image/png": "[encoded data removed]",
      "text/plain": [
       "<Figure size 432x288 with 1 Axes>"
      ]
     },
     "metadata": {
      "needs_background": "light"
     },
     "output_type": "display_data"
    },
    {
     "data": {
      "image/png": "[encoded data removed]",
      "text/plain": [
       "<Figure size 432x288 with 1 Axes>"
      ]
     },
     "metadata": {
      "needs_background": "light"
     },
     "output_type": "display_data"
    }
   ],
   "source": [
    "# Plot learning curve for the digits data\n",
    "clf = KNeighborsClassifier()\n",
    "plot_learning_curve(clf, digitsX, digitsy, 'KNN Learning Curve')"
   ]
  },
  {
   "cell_type": "code",
   "execution_count": 17,
   "metadata": {},
   "outputs": [
    {
     "name": "stdout",
     "output_type": "stream",
     "text": [
      "Cannot plot ROC curve for anything other than binary classification\n"
     ]
    },
    {
     "data": {
      "text/plain": [
       "0"
      ]
     },
     "execution_count": 17,
     "metadata": {},
     "output_type": "execute_result"
    }
   ],
   "source": [
    "# Plot ROC curve for wine data\n",
    "clf = KNeighborsClassifier()\n",
    "clf.fit(X_train, y_train)\n",
    "test_pred = clf.predict(X_test)\n",
    "plot_roc_curve(clf, X_test, y_test, 'KNN ROC Curve')"
   ]
  },
  {
   "cell_type": "code",
   "execution_count": 18,
   "metadata": {},
   "outputs": [
    {
     "ename": "NameError",
     "evalue": "name 'cancery' is not defined",
     "output_type": "error",
     "traceback": [
      "\u001b[1;31m---------------------------------------------------------------------------\u001b[0m",
      "\u001b[1;31mNameError\u001b[0m                                 Traceback (most recent call last)",
      "\u001b[1;32m<ipython-input-18-541d3c61941f>\u001b[0m in \u001b[0;36m<module>\u001b[1;34m\u001b[0m\n\u001b[0;32m      1\u001b[0m \u001b[1;31m# Calculate null accuracy of digits\u001b[0m\u001b[1;33m\u001b[0m\u001b[1;33m\u001b[0m\u001b[1;33m\u001b[0m\u001b[0m\n\u001b[1;32m----> 2\u001b[1;33m \u001b[0mnull\u001b[0m \u001b[1;33m=\u001b[0m \u001b[0mcalculate_null_accuracy\u001b[0m\u001b[1;33m(\u001b[0m\u001b[0mcancery\u001b[0m\u001b[1;33m)\u001b[0m\u001b[1;33m\u001b[0m\u001b[1;33m\u001b[0m\u001b[0m\n\u001b[0m\u001b[0;32m      3\u001b[0m \u001b[0mprint\u001b[0m\u001b[1;33m(\u001b[0m\u001b[1;34m'Null accuracy: %.2f %%percent'\u001b[0m \u001b[1;33m%\u001b[0m \u001b[1;33m(\u001b[0m\u001b[0mnull\u001b[0m\u001b[1;33m*\u001b[0m\u001b[1;36m100\u001b[0m\u001b[1;33m)\u001b[0m\u001b[1;33m)\u001b[0m\u001b[1;33m\u001b[0m\u001b[1;33m\u001b[0m\u001b[0m\n",
      "\u001b[1;31mNameError\u001b[0m: name 'cancery' is not defined"
     ]
    }
   ],
   "source": [
    "# Calculate null accuracy of digits\n",
    "null = calculate_null_accuracy(winey)\n",
    "print('Null accuracy: %.2f %%percent' % (null*100))"
   ]
  },
  {
   "cell_type": "code",
   "execution_count": 19,
   "metadata": {},
   "outputs": [
    {
     "data": {
      "image/png": "[encoded data removed]",
      "text/plain": [
       "<Figure size 432x288 with 2 Axes>"
      ]
     },
     "metadata": {
      "needs_background": "light"
     },
     "output_type": "display_data"
    },
    {
     "data": {
      "image/png": "[encoded data removed]",
      "text/plain": [
       "<Figure size 432x288 with 2 Axes>"
      ]
     },
     "metadata": {
      "needs_background": "light"
     },
     "output_type": "display_data"
    },
    {
     "data": {
      "text/plain": [
       "0"
      ]
     },
     "execution_count": 19,
     "metadata": {},
     "output_type": "execute_result"
    }
   ],
   "source": [
    "# Plot confusion matrix\n",
    "clf = KNeighborsClassifier(n_neighbors=10)\n",
    "\n",
    "clf.fit(X_train, y_train)\n",
    "\n",
    "plot_confusion(clf, X_test, y_test, labels)"
   ]
  },
  {
   "cell_type": "markdown",
   "metadata": {},
   "source": [
    "# Algorithms\n",
    "\n",
    "## Decision Trees"
   ]
  },
  {
   "cell_type": "code",
   "execution_count": null,
   "metadata": {},
   "outputs": [],
   "source": [
    "from sklearn.tree import DecisionTreeClassifier\n"
   ]
  },
  {
   "cell_type": "markdown",
   "metadata": {},
   "source": [
    "### Perform Grid Search"
   ]
  },
  {
   "cell_type": "code",
   "execution_count": null,
   "metadata": {},
   "outputs": [],
   "source": [
    "# Set parameters to search in grid search\n",
    "depths = np.arange(1,40,1)\n",
    "params = {'max_depth': depths}\n",
    "\n",
    "clf = GridSearchCV(DecisionTreeClassifier(random_state=0), \n",
    "                   params,\n",
    "                   scoring='accuracy',\n",
    "                   cv=10)\n",
    "\n",
    "t0 = time.time()\n",
    "clf.fit(X_train, y_train)\n",
    "tree_time = time.time() - t0\n",
    "print(\"Decision Tree model fitted in %.3f s\" % tree_time)\n",
    "\n",
    "print('Best Scores: %.3f using %r' % (clf.best_score_, clf.best_params_))\n",
    "\n",
    "# save off the best depth\n",
    "best_depth = clf.best_params_['max_depth']"
   ]
  },
  {
   "cell_type": "markdown",
   "metadata": {},
   "source": [
    "### Validation Curve"
   ]
  },
  {
   "cell_type": "code",
   "execution_count": null,
   "metadata": {},
   "outputs": [],
   "source": [
    "# create validation curve varying max depth\n",
    "clf = DecisionTreeClassifier()\n",
    "param_name = \"max_depth\"\n",
    "param_range = np.arange(1,40,1)\n",
    "plot_validation_curve(clf, X_train, y_train, param_name, param_range)"
   ]
  },
  {
   "cell_type": "markdown",
   "metadata": {},
   "source": [
    "### Cost Complexity Pruning\n",
    "[Sci-kit Learn Tutorial](https://scikit-learn.org/stable/auto_examples/tree/plot_cost_complexity_pruning.html#sphx-glr-auto-examples-tree-plot-cost-complexity-pruning-py)\n",
    "\n",
    "\n",
    "#### Total impurity of leaves vs effective alphas of pruned tree"
   ]
  },
  {
   "cell_type": "code",
   "execution_count": null,
   "metadata": {},
   "outputs": [],
   "source": [
    "clf = DecisionTreeClassifier(random_state=0)\n",
    "path = clf.cost_complexity_pruning_path(X_train, y_train)\n",
    "ccp_alphas, impurities = path.ccp_alphas, path.impurities\n",
    "\n",
    "fig, ax = plt.subplots()\n",
    "ax.plot(ccp_alphas[:-1], impurities[:-1], marker='o', drawstyle=\"steps-post\")\n",
    "ax.set_xlabel(\"effective alpha\")\n",
    "ax.set_ylabel(\"total impurity of leaves\")\n",
    "ax.set_title(\"Total Impurity vs effective alpha for training set\")\n",
    "plt.grid()"
   ]
  },
  {
   "cell_type": "code",
   "execution_count": null,
   "metadata": {},
   "outputs": [],
   "source": [
    "clfs = []\n",
    "for ccp_alpha in ccp_alphas:\n",
    "    clf = DecisionTreeClassifier(random_state=0, ccp_alpha=ccp_alpha)\n",
    "    clf.fit(X_train, y_train)\n",
    "    clfs.append(clf)\n",
    "print(\"Number of nodes in the last tree is: {} with ccp_alpha: {}\".format(\n",
    "      clfs[-1].tree_.node_count, ccp_alphas[-1]))"
   ]
  },
  {
   "cell_type": "code",
   "execution_count": null,
   "metadata": {},
   "outputs": [],
   "source": [
    "clfs = clfs[:-1]\n",
    "ccp_alphas = ccp_alphas[:-1]\n",
    "\n",
    "node_counts = [clf.tree_.node_count for clf in clfs]\n",
    "depth = [clf.tree_.max_depth for clf in clfs]\n",
    "fig, ax = plt.subplots(2, 1)\n",
    "ax[0].plot(ccp_alphas, node_counts, marker='o', drawstyle=\"steps-post\")\n",
    "ax[0].set_xlabel(\"alpha\")\n",
    "ax[0].set_ylabel(\"number of nodes\")\n",
    "ax[0].set_title(\"Number of nodes vs alpha\")\n",
    "ax[1].plot(ccp_alphas, depth, marker='o', drawstyle=\"steps-post\")\n",
    "ax[1].set_xlabel(\"alpha\")\n",
    "ax[1].set_ylabel(\"depth of tree\")\n",
    "ax[1].set_title(\"Depth vs alpha\")\n",
    "fig.tight_layout()"
   ]
  },
  {
   "cell_type": "markdown",
   "metadata": {},
   "source": [
    "#### Accuracy vs alpha for training and test sets"
   ]
  },
  {
   "cell_type": "code",
   "execution_count": null,
   "metadata": {},
   "outputs": [],
   "source": [
    "train_scores = [clf.score(X_train, y_train) for clf in clfs]\n",
    "test_scores = [clf.score(X_test, y_test) for clf in clfs]\n",
    "\n",
    "fig, ax = plt.subplots()\n",
    "ax.set_xlabel(\"alpha\")\n",
    "ax.set_ylabel(\"accuracy\")\n",
    "ax.set_title(\"Accuracy vs alpha for training and testing sets\")\n",
    "ax.plot(ccp_alphas, train_scores, marker='o', label=\"train\",\n",
    "        drawstyle=\"steps-post\")\n",
    "ax.plot(ccp_alphas, test_scores, marker='o', label=\"test\",\n",
    "        drawstyle=\"steps-post\")\n",
    "ax.legend()\n",
    "plt.grid()\n",
    "plt.show()\n",
    "\n",
    "best_idx   = test_scores.index(max(test_scores))\n",
    "best_alpha = ccp_alphas[best_idx]\n",
    "\n",
    "print('Optimal ccp_alpha: %.3f' % best_alpha)"
   ]
  },
  {
   "cell_type": "markdown",
   "metadata": {},
   "source": [
    "### Learning & Scalability Curve"
   ]
  },
  {
   "cell_type": "code",
   "execution_count": null,
   "metadata": {},
   "outputs": [],
   "source": [
    "# Plot learning curve for the digits data\n",
    "clf_depth_based = DecisionTreeClassifier(max_depth=best_depth)\n",
    "plot_learning_curve(clf_depth_based, X_train, y_train)"
   ]
  },
  {
   "cell_type": "code",
   "execution_count": null,
   "metadata": {},
   "outputs": [],
   "source": [
    "# Plot learning curve based on using best ccp_alpha\n",
    "clf_alpha_based = DecisionTreeClassifier(ccp_alpha=0.005, random_state=0)\n",
    "plot_learning_curve(clf_alpha_based, X_train, y_train)"
   ]
  },
  {
   "cell_type": "markdown",
   "metadata": {},
   "source": [
    "### Model Accuracy"
   ]
  },
  {
   "cell_type": "code",
   "execution_count": null,
   "metadata": {},
   "outputs": [],
   "source": [
    "# Predict results using the test set\n",
    "clf_depth_based.fit(X_train, y_train)\n",
    "tree_pred = clf_depth_based.predict(X_test)\n",
    "\n",
    "# Plot ROC curve\n",
    "plot_roc_curve(clf_depth_based, X_test, y_test)\n",
    "\n",
    "# let's see how our model performed\n",
    "print(classification_report(y_test, tree_pred))\n",
    "\n",
    "plot_confusion(clf_depth_based, X_test, y_test, labels)"
   ]
  },
  {
   "cell_type": "code",
   "execution_count": null,
   "metadata": {},
   "outputs": [],
   "source": [
    "# Predict results using the test set\n",
    "clf_alpha_based.fit(X_train, y_train)\n",
    "tree_pred = clf_alpha_based.predict(X_test)\n",
    "\n",
    "# Plot ROC curve\n",
    "plot_roc_curve(clf_alpha_based, X_test, y_test)\n",
    "\n",
    "# let's see how our model performed\n",
    "print(classification_report(y_test, tree_pred))\n",
    "\n",
    "plot_confusion(clf_alpha_based, X_test, y_test, labels)"
   ]
  },
  {
   "cell_type": "markdown",
   "metadata": {},
   "source": [
    "### Plot Tree"
   ]
  },
  {
   "cell_type": "code",
   "execution_count": null,
   "metadata": {},
   "outputs": [],
   "source": [
    "# Plot decision tree visual\n",
    "print(\"Max depth based tree\")\n",
    "from sklearn.tree import plot_tree\n",
    "plot_tree(clf_depth_based, filled=True)\n",
    "plt.show()\n",
    "\n",
    "print(\"Cost complexity pruning tree\")\n",
    "plot_tree(clf_alpha_based, filled=True)\n",
    "plt.show()"
   ]
  },
  {
   "cell_type": "markdown",
   "metadata": {},
   "source": [
    "## Boosting"
   ]
  },
  {
   "cell_type": "code",
   "execution_count": null,
   "metadata": {},
   "outputs": [],
   "source": [
    "from sklearn.ensemble import AdaBoostClassifier\n",
    "from sklearn.tree import DecisionTreeClassifier\n"
   ]
  },
  {
   "cell_type": "markdown",
   "metadata": {},
   "source": [
    "### Perform Grid Search"
   ]
  },
  {
   "cell_type": "code",
   "execution_count": null,
   "metadata": {},
   "outputs": [],
   "source": [
    "# set hyperparameter space\n",
    "parameters = {'n_estimators': np.arange(1,50,1)}\n",
    "\n",
    "# Use a decision tree of max_depth=1 as the weak learner\n",
    "clf = GridSearchCV(AdaBoostClassifier(DecisionTreeClassifier(max_depth=2, random_state=0)), \n",
    "                   parameters, \n",
    "                   cv=10, \n",
    "                   scoring='accuracy',\n",
    "                   n_jobs=-1)\n",
    "\n",
    "t0 = time.time()\n",
    "clf.fit(X_train, y_train)\n",
    "tree_time = time.time() - t0\n",
    "print(\"Boosting model fitted in %.3f s\" % tree_time)\n",
    "\n",
    "print('Best Scores: %.3f using %r' % (clf.best_score_, clf.best_params_))\n",
    "\n",
    "# save off the best depth\n",
    "best_n_estimators = clf.best_params_['n_estimators']"
   ]
  },
  {
   "cell_type": "markdown",
   "metadata": {},
   "source": [
    "### Validation Curve"
   ]
  },
  {
   "cell_type": "code",
   "execution_count": null,
   "metadata": {},
   "outputs": [],
   "source": [
    "# Plot validation curve \n",
    "# create validation curve varying max depth\n",
    "clf = AdaBoostClassifier(DecisionTreeClassifier(max_depth=3, random_state=0))\n",
    "param_name = \"n_estimators\"\n",
    "param_range = np.arange(1,100,1)\n",
    "plot_validation_curve(clf, X_train, y_train, param_name, param_range)"
   ]
  },
  {
   "cell_type": "markdown",
   "metadata": {},
   "source": [
    "### Learning and Scalability"
   ]
  },
  {
   "cell_type": "code",
   "execution_count": null,
   "metadata": {
    "scrolled": false
   },
   "outputs": [],
   "source": [
    "# Plot learning curve for the digits data\n",
    "clf = AdaBoostClassifier(DecisionTreeClassifier(max_depth=3, random_state=0), n_estimators=47)\n",
    "plot_learning_curve(clf_depth_based, X_train, y_train)"
   ]
  },
  {
   "cell_type": "markdown",
   "metadata": {},
   "source": [
    "### Model Accuracy"
   ]
  },
  {
   "cell_type": "code",
   "execution_count": null,
   "metadata": {},
   "outputs": [],
   "source": [
    "# Predict results using the test set\n",
    "clf.fit(X_train, y_train)\n",
    "boost_pred = clf.predict(X_test)\n",
    "\n",
    "# Plot ROC curve\n",
    "plot_roc_curve(clf, X_test, y_test)\n",
    "\n",
    "# let's see how our model performed\n",
    "print(classification_report(y_test, boost_pred))\n",
    "\n",
    "plot_confusion(clf, X_test, y_test, labels)"
   ]
  },
  {
   "cell_type": "markdown",
   "metadata": {},
   "source": [
    "## k-Nearest Neighbor"
   ]
  },
  {
   "cell_type": "code",
   "execution_count": null,
   "metadata": {},
   "outputs": [],
   "source": [
    "from sklearn.neighbors import KNeighborsClassifier\n"
   ]
  },
  {
   "cell_type": "markdown",
   "metadata": {},
   "source": [
    "### Perform Grid Search"
   ]
  },
  {
   "cell_type": "code",
   "execution_count": null,
   "metadata": {},
   "outputs": [],
   "source": [
    "# set hyperparameter space\n",
    "parameters = {'n_neighbors': np.arange(1,50,1)}\n",
    "\n",
    "# Use a decision tree of max_depth=1 as the weak learner\n",
    "clf = GridSearchCV(KNeighborsClassifier(), \n",
    "                   parameters, \n",
    "                   cv=10, \n",
    "                   scoring='accuracy',\n",
    "                   n_jobs=-1)\n",
    "\n",
    "t0 = time.time()\n",
    "clf.fit(X_train, y_train)\n",
    "knn_time = time.time() - t0\n",
    "print(\"KNN model fitted in %.3f s\" % knn_time)\n",
    "\n",
    "print('Best Scores: %.3f using %r' % (clf.best_score_, clf.best_params_))\n",
    "\n",
    "# save off the best depth\n",
    "best_n_estimators = clf.best_params_['n_neighbors']"
   ]
  },
  {
   "cell_type": "markdown",
   "metadata": {},
   "source": [
    "### Validation Curve"
   ]
  },
  {
   "cell_type": "code",
   "execution_count": null,
   "metadata": {},
   "outputs": [],
   "source": [
    "# Plot validation curve \n",
    "# create validation curve varying how many neighbors\n",
    "clf = KNeighborsClassifier()\n",
    "param_name = \"n_neighbors\"\n",
    "param_range = np.arange(1,50,1)\n",
    "plot_validation_curve(clf, X_train, y_train, param_name, param_range)"
   ]
  },
  {
   "cell_type": "markdown",
   "metadata": {},
   "source": [
    "### Learning and Scalability"
   ]
  },
  {
   "cell_type": "code",
   "execution_count": null,
   "metadata": {
    "scrolled": false
   },
   "outputs": [],
   "source": [
    "# Plot learning curve for the digits data\n",
    "clf = KNeighborsClassifier(n_neighbors=best_n_estimators)\n",
    "plot_learning_curve(clf_depth_based, X_train, y_train)"
   ]
  },
  {
   "cell_type": "markdown",
   "metadata": {},
   "source": [
    "### Model Accuracy"
   ]
  },
  {
   "cell_type": "code",
   "execution_count": null,
   "metadata": {},
   "outputs": [],
   "source": [
    "# Predict results using the test set\n",
    "clf.fit(X_train, y_train)\n",
    "knn_pred = clf.predict(X_test)\n",
    "\n",
    "# Calculate Null Accuracy\n",
    "calculate_null_accuracy(y)\n",
    "\n",
    "# Plot ROC curve\n",
    "plot_roc_curve(clf, X_test, y_test)\n",
    "\n",
    "# let's see how our model performed\n",
    "print(classification_report(y_test, knn_pred))\n",
    "\n",
    "plot_confusion(clf, X_test, y_test, labels)"
   ]
  },
  {
   "cell_type": "markdown",
   "metadata": {},
   "source": [
    "## Support Vector Machines"
   ]
  },
  {
   "cell_type": "code",
   "execution_count": null,
   "metadata": {},
   "outputs": [],
   "source": [
    "from sklearn.svm import SVC\n"
   ]
  },
  {
   "cell_type": "markdown",
   "metadata": {},
   "source": [
    "### Perform Grid Search"
   ]
  },
  {
   "cell_type": "code",
   "execution_count": null,
   "metadata": {},
   "outputs": [],
   "source": [
    "# setup parameter space\n",
    "Cvals = np.logspace(0, 3, 6)\n",
    "Gvals = np.logspace(-4, 0, 5)\n",
    "kernels = ['linear', 'rbf']\n",
    "\n",
    "parameters = {'C': Cvals, 'gamma': Gvals, 'kernel': kernels}\n",
    "#print(parameters)\n",
    "\n",
    "clf = GridSearchCV(SVC(random_state=0),\n",
    "                   parameters,\n",
    "                   cv=10,\n",
    "                   scoring='accuracy',\n",
    "                   n_jobs=-1)\n",
    "            \n",
    "t0 = time.time()\n",
    "clf.fit(X_train, y_train)\n",
    "svm_time = time.time() - t0\n",
    "\n",
    "print(\"SVM model fitted in %.3f s\" % svm_time)\n",
    "\n",
    "print('Best Scores: %.3f using %r' % (clf.best_score_, clf.best_params_))\n",
    "\n",
    "# save off the best hyperparameters\n",
    "best_C      = clf.best_params_['C']\n",
    "best_gamma  = clf.best_params_['gamma']\n",
    "best_kernel = clf.best_params_['kernel']"
   ]
  },
  {
   "cell_type": "markdown",
   "metadata": {},
   "source": [
    "### Validation Curve"
   ]
  },
  {
   "cell_type": "code",
   "execution_count": null,
   "metadata": {},
   "outputs": [],
   "source": [
    "# Plot validation curve for C\n",
    "clf = SVC(C=best_C, gamma=best_gamma, kernel=best_kernel)\n",
    "param_name = \"C\"\n",
    "param_range = np.arange(best_C-10,best_C+10,1)\n",
    "plot_validation_curve(clf, X_train, y_train, param_name, param_range)"
   ]
  },
  {
   "cell_type": "code",
   "execution_count": null,
   "metadata": {},
   "outputs": [],
   "source": [
    "# Plot validation curve for gamma\n",
    "clf = SVC(C=best_C, gamma=best_gamma, kernel=best_kernel)\n",
    "param_name = \"gamma\"\n",
    "param_range = np.linspace(0.9*best_gamma,1.1*best_gamma,10)\n",
    "plot_validation_curve(clf, X_train, y_train, param_name, param_range)"
   ]
  },
  {
   "cell_type": "markdown",
   "metadata": {},
   "source": [
    "### Learning & Scalability"
   ]
  },
  {
   "cell_type": "code",
   "execution_count": null,
   "metadata": {},
   "outputs": [],
   "source": [
    "# Plot learning curve for the digits data\n",
    "clf = SVC(C=8, gamma=best_gamma, kernel=best_kernel)\n",
    "plot_learning_curve(clf, X_train, y_train)"
   ]
  },
  {
   "cell_type": "markdown",
   "metadata": {},
   "source": [
    "### Model Accuracy"
   ]
  },
  {
   "cell_type": "code",
   "execution_count": null,
   "metadata": {},
   "outputs": [],
   "source": [
    "# Predict results using the test set\n",
    "clf.fit(X_train, y_train)\n",
    "knn_pred = clf.predict(X_test)\n",
    "\n",
    "# Calculate Null Accuracy\n",
    "calculate_null_accuracy(y)\n",
    "\n",
    "# Plot ROC curve\n",
    "#plot_roc_curve(clf, X_test, y_test)\n",
    "\n",
    "# let's see how our model performed\n",
    "print(classification_report(y_test, knn_pred))\n",
    "\n",
    "plot_confusion(clf, X_test, y_test, labels)"
   ]
  },
  {
   "cell_type": "markdown",
   "metadata": {},
   "source": [
    "## Neural Networks"
   ]
  },
  {
   "cell_type": "code",
   "execution_count": null,
   "metadata": {},
   "outputs": [],
   "source": [
    "from sklearn.neural_network import MLPClassifier\n",
    "from sklearn.preprocessing import StandardScaler\n",
    "\n",
    "# scale data\n",
    "scaler = StandardScaler()\n",
    "scaler.fit(X_train)\n",
    "X_train = scaler.transform(X_train)\n",
    "X_test  = scaler.transform(X_test)"
   ]
  },
  {
   "cell_type": "markdown",
   "metadata": {},
   "source": [
    "### Perform Grid Search"
   ]
  },
  {
   "cell_type": "code",
   "execution_count": null,
   "metadata": {},
   "outputs": [],
   "source": [
    "# setup parameter space\n",
    "learning_rates = ['constant', 'invscaling']\n",
    "solvers = ['sgd', 'lbfgs', 'adam']\n",
    "layers = [(20,10), (40, 20), (10,10), (10, 5)]\n",
    "\n",
    "\n",
    "parameters = {'solver': solvers, 'learning_rate': learning_rates}\n",
    "#print(parameters)\n",
    "\n",
    "clf = GridSearchCV(MLPClassifier(max_iter=2000, activation='relu', alpha=1, random_state=0),\n",
    "                   parameters,\n",
    "                   cv=10,\n",
    "                   scoring='accuracy',\n",
    "                   n_jobs=-1)\n",
    "            \n",
    "t0 = time.time()\n",
    "clf.fit(X_train, y_train)\n",
    "nn_time = time.time() - t0\n",
    "\n",
    "print(\"Neural Net model fit in %.3f s\" % nn_time)\n",
    "\n",
    "print('Best Scores: %.3f using %r' % (clf.best_score_, clf.best_params_))\n",
    "\n",
    "# save off the best hyperparameters\n",
    "best_solver        = clf.best_params_['solver']\n",
    "best_learning_rate = clf.best_params_['learning_rate']\n"
   ]
  },
  {
   "cell_type": "markdown",
   "metadata": {},
   "source": [
    "### Validation Curve"
   ]
  },
  {
   "cell_type": "code",
   "execution_count": null,
   "metadata": {},
   "outputs": [],
   "source": []
  },
  {
   "cell_type": "markdown",
   "metadata": {},
   "source": [
    "### Learning & Scalability"
   ]
  },
  {
   "cell_type": "code",
   "execution_count": null,
   "metadata": {},
   "outputs": [],
   "source": [
    "# Plot learning curve for the digits data\n",
    "clf = MLPClassifier(learning_rate='constant', solver='sgd', activation='relu', alpha=1, max_iter=1000, random_state=0)\n",
    "plot_learning_curve(clf, X_train, y_train)"
   ]
  },
  {
   "cell_type": "markdown",
   "metadata": {},
   "source": [
    "### Model Accuracy"
   ]
  },
  {
   "cell_type": "code",
   "execution_count": null,
   "metadata": {},
   "outputs": [],
   "source": [
    "# Predict results using the test set\n",
    "clf.fit(X_train, y_train)\n",
    "nn_pred = clf.predict(X_test)\n",
    "\n",
    "# Calculate Null Accuracy\n",
    "calculate_null_accuracy(y)\n",
    "\n",
    "# Plot ROC curve\n",
    "plot_roc_curve(clf, X_test, y_test)\n",
    "\n",
    "# let's see how our model performed\n",
    "print(classification_report(y_test, nn_pred))\n",
    "\n",
    "plot_confusion(clf, X_test, y_test, labels)"
   ]
  },
  {
   "cell_type": "code",
   "execution_count": null,
   "metadata": {},
   "outputs": [],
   "source": []
  },
  {
   "cell_type": "code",
   "execution_count": null,
   "metadata": {},
   "outputs": [],
   "source": []
  },
  {
   "cell_type": "code",
   "execution_count": null,
   "metadata": {},
   "outputs": [],
   "source": []
  }
 ],
 "metadata": {
  "kernelspec": {
   "display_name": "Python 3",
   "language": "python",
   "name": "python3"
  },
  "language_info": {
   "codemirror_mode": {
    "name": "ipython",
    "version": 3
   },
   "file_extension": ".py",
   "mimetype": "text/x-python",
   "name": "python",
   "nbconvert_exporter": "python",
   "pygments_lexer": "ipython3",
   "version": "3.7.4"
  }
 },
 "nbformat": 4,
 "nbformat_minor": 2
}
